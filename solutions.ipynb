{
 "cells": [
  {
   "cell_type": "markdown",
   "metadata": {},
   "source": [
    "# **Objectives**\n",
    "----------------"
   ]
  },
  {
   "cell_type": "code",
   "execution_count": 1,
   "metadata": {},
   "outputs": [],
   "source": [
    "from task_functions import *"
   ]
  },
  {
   "cell_type": "markdown",
   "metadata": {},
   "source": [
    "## **Task 1** ✅\n",
    "Make a request to the Transport for London (TfL) [AirQuality](https://api-portal.tfl.gov.uk/api-details#api=AirQuality&operation=AirQuality_Get) API and store the JSON object as a dictionary."
   ]
  },
  {
   "cell_type": "markdown",
   "metadata": {},
   "source": [
    "### Solution 1:"
   ]
  },
  {
   "cell_type": "code",
   "execution_count": 2,
   "metadata": {},
   "outputs": [
    {
     "name": "stdout",
     "output_type": "stream",
     "text": [
      "{'$id': '1', '$type': 'Tfl.Api.Presentation.Entities.LondonAirForecast, Tfl.Api.Presentation.Entities', 'updatePeriod': 'hourly', 'updateFrequency': '1', 'forecastURL': 'http://londonair.org.uk/forecast', 'disclaimerText': 'This forecast is intended to provide information on expected pollution levels in areas of significant public exposure. It may not apply in very specific locations close to unusually strong or short-lived local sources of pollution.', 'currentForecast': [{'$id': '2', '$type': 'Tfl.Api.Presentation.Entities.CurrentForecast, Tfl.Api.Presentation.Entities', 'forecastType': 'Current', 'forecastID': '35734', 'fromDate': '2022-01-04T00:00:00Z', 'toDate': '2022-01-04T23:59:00Z', 'forecastBand': 'Low', 'forecastSummary': 'Low air pollution forecast valid from Friday 1 April to end of Friday 1 April GMT', 'nO2Band': 'Low', 'o3Band': 'Low', 'pM10Band': 'Low', 'pM25Band': 'Low', 'sO2Band': 'Low', 'forecastText': 'Air is expected to arrive from the North Sea throughout the day. Sunny spells and wintry showers on Friday, easing and becoming less frequent. Feeling cold in the wind&lt;br/&gt;&lt;br/&gt;Overall air pollution is expected to remain &#39;Low&#39; throughout the forecast period for the following pollutants:&lt;br/&gt;&lt;br/&gt;Nitrogen Dioxide&lt;br/&gt;Ozone&lt;br/&gt;PM10 Particulate&lt;br/&gt;PM2.5 Particulate&lt;br/&gt;Sulphur Dioxide&lt;br/&gt;&lt;br/&gt;'}, {'$id': '3', '$type': 'Tfl.Api.Presentation.Entities.CurrentForecast, Tfl.Api.Presentation.Entities', 'forecastType': 'Future', 'forecastID': '35763', 'publishedDate': '2022-01-04T10:22:45Z', 'fromDate': '2022-02-04T00:00:00Z', 'toDate': '2022-04-04T23:59:00Z', 'forecastBand': 'Low', 'forecastSummary': 'Low air pollution forecast valid from Saturday 2 April to end of Monday 4 April GMT', 'nO2Band': 'Low', 'o3Band': 'Low', 'pM10Band': 'Low', 'pM25Band': 'Low', 'sO2Band': 'Low', 'forecastText': 'Air is expected to arrive from the North Sea throughout the day. Cold, but with sunny spells and a chance of wintry showers expected on Saturday. &lt;br/&gt;Frosty start on Sunday, then mainly dry day with periods of sunshine. Rain will arrive overnight into Monday, which should clear in the afternoon. The air will start arriving from the north west by Monday.&lt;br/&gt;&lt;br/&gt;Overall air pollution is expected to remain &#39;Low&#39; throughout the forecast period for the following pollutants:&lt;br/&gt;&lt;br/&gt;Nitrogen Dioxide&lt;br/&gt;Ozone&lt;br/&gt;PM10 Particulate&lt;br/&gt;PM2.5 Particulate&lt;br/&gt;Sulphur Dioxide&lt;br/&gt;&lt;br/&gt;'}]}\n"
     ]
    }
   ],
   "source": [
    "task_1()"
   ]
  },
  {
   "cell_type": "markdown",
   "metadata": {},
   "source": [
    "## **Task 2** ✅\n",
    "Parse the dictionary and print the AirQuality predictions for tomorrow"
   ]
  },
  {
   "cell_type": "markdown",
   "metadata": {},
   "source": [
    "### Solution 2:"
   ]
  },
  {
   "cell_type": "code",
   "execution_count": 3,
   "metadata": {},
   "outputs": [
    {
     "name": "stdout",
     "output_type": "stream",
     "text": [
      "Low air pollution forecast valid from Saturday 2 April to end of Monday 4 April GMT\n",
      "Air is expected to arrive from the North Sea throughout the day. Cold, but with sunny spells and a chance of wintry showers expected on Saturday. &lt;br/&gt;Frosty start on Sunday, then mainly dry day with periods of sunshine. Rain will arrive overnight into Monday, which should clear in the afternoon. The air will start arriving from the north west by Monday.&lt;br/&gt;&lt;br/&gt;Overall air pollution is expected to remain &#39;Low&#39; throughout the forecast period for the following pollutants:&lt;br/&gt;&lt;br/&gt;Nitrogen Dioxide&lt;br/&gt;Ozone&lt;br/&gt;PM10 Particulate&lt;br/&gt;PM2.5 Particulate&lt;br/&gt;Sulphur Dioxide&lt;br/&gt;&lt;br/&gt;\n"
     ]
    }
   ],
   "source": [
    "task_2()"
   ]
  },
  {
   "cell_type": "markdown",
   "metadata": {},
   "source": [
    "## **Task 3** ✅\n",
    "What are the different modes of transport which are operated by Transport for London? How many modes do they have?\n",
    "\n",
    "Print the list with different modes of transport, plus their count. Example output:\n",
    "```\n",
    "[bus, cable-car,.....]\n",
    "Number of different modes of transport is: xyz\n",
    "```\n",
    "\n",
    "We need to search the documentation for correct request."
   ]
  },
  {
   "cell_type": "markdown",
   "metadata": {},
   "source": [
    "### Solution 3:"
   ]
  },
  {
   "cell_type": "markdown",
   "metadata": {},
   "source": [
    "[Line](https://api-portal.tfl.gov.uk/api-details#api=Line&operation=Line_MetaModes) API -> GET https://api.tfl.gov.uk/Line/Meta/Modes/"
   ]
  },
  {
   "cell_type": "code",
   "execution_count": 4,
   "metadata": {},
   "outputs": [
    {
     "name": "stdout",
     "output_type": "stream",
     "text": [
      "TfL's modes of transportation include:\n",
      "- bus\n",
      "- cable-car\n",
      "- cycle-hire\n",
      "- dlr\n",
      "- elizabeth-line\n",
      "- overground\n",
      "- replacement-bus\n",
      "- river-bus\n",
      "- river-tour\n",
      "- tflrail\n",
      "- tram\n",
      "- tube\n",
      "Thus, TfL offers 12 forms of transportation at present.\n"
     ]
    }
   ],
   "source": [
    "task_3()"
   ]
  },
  {
   "cell_type": "markdown",
   "metadata": {},
   "source": [
    "## **Task 4** ✅\n",
    "How many BikePoints in London are operated by Transport for London? How many docks are in **all** BikePoints? There is information for empty and full docks for each BikePoint."
   ]
  },
  {
   "cell_type": "markdown",
   "metadata": {},
   "source": [
    "### Solution 4:"
   ]
  },
  {
   "cell_type": "markdown",
   "metadata": {},
   "source": [
    "[BikePoint](https://api-portal.tfl.gov.uk/api-details#api=BikePoint&operation=BikePoint_GetAll) API -> GET https://api.tfl.gov.uk/BikePoint/"
   ]
  },
  {
   "cell_type": "markdown",
   "metadata": {},
   "source": [
    "**NOTE:** At the time this was attempted, the API returned an empty list. Skipping for the time being until the JSON structure can be properly analyzed."
   ]
  },
  {
   "cell_type": "code",
   "execution_count": 5,
   "metadata": {},
   "outputs": [
    {
     "ename": "ValueError",
     "evalue": "invalid literal for int() with base 10: ''",
     "output_type": "error",
     "traceback": [
      "\u001b[1;31m---------------------------------------------------------------------------\u001b[0m",
      "\u001b[1;31mValueError\u001b[0m                                Traceback (most recent call last)",
      "\u001b[1;32mm:\\BOOTCAMP\\Projects\\mini-project-I\\solutions.ipynb Cell 17'\u001b[0m in \u001b[0;36m<module>\u001b[1;34m\u001b[0m\n\u001b[1;32m----> <a href='vscode-notebook-cell:/m%3A/BOOTCAMP/Projects/mini-project-I/solutions.ipynb#ch0000016?line=0'>1</a>\u001b[0m task_4()\n",
      "File \u001b[1;32mm:\\BOOTCAMP\\Projects\\mini-project-I\\task_functions.py:17\u001b[0m, in \u001b[0;36mtask_4\u001b[1;34m()\u001b[0m\n\u001b[0;32m     <a href='file:///m%3A/BOOTCAMP/Projects/mini-project-I/task_functions.py?line=15'>16</a>\u001b[0m \u001b[39mdef\u001b[39;00m \u001b[39mtask_4\u001b[39m():\n\u001b[1;32m---> <a href='file:///m%3A/BOOTCAMP/Projects/mini-project-I/task_functions.py?line=16'>17</a>\u001b[0m     \u001b[39mprint\u001b[39m(get_bikepoint_info())\n",
      "File \u001b[1;32mm:\\BOOTCAMP\\Projects\\mini-project-I\\utility.py:153\u001b[0m, in \u001b[0;36mget_bikepoint_info\u001b[1;34m(url)\u001b[0m\n\u001b[0;32m    <a href='file:///m%3A/BOOTCAMP/Projects/mini-project-I/utility.py?line=149'>150</a>\u001b[0m _dock_sum \u001b[39m=\u001b[39m \u001b[39m0\u001b[39m\n\u001b[0;32m    <a href='file:///m%3A/BOOTCAMP/Projects/mini-project-I/utility.py?line=151'>152</a>\u001b[0m \u001b[39mfor\u001b[39;00m _bike_point \u001b[39min\u001b[39;00m _bike_points:\n\u001b[1;32m--> <a href='file:///m%3A/BOOTCAMP/Projects/mini-project-I/utility.py?line=152'>153</a>\u001b[0m     _empty_dock_sum \u001b[39m+\u001b[39m\u001b[39m=\u001b[39m \u001b[39mint\u001b[39;49m(_bike_point[\u001b[39m'\u001b[39;49m\u001b[39madditionalProperties\u001b[39;49m\u001b[39m'\u001b[39;49m]\n\u001b[0;32m    <a href='file:///m%3A/BOOTCAMP/Projects/mini-project-I/utility.py?line=153'>154</a>\u001b[0m                            [\u001b[39m-\u001b[39;49m\u001b[39m2\u001b[39;49m][\u001b[39m'\u001b[39;49m\u001b[39mvalue\u001b[39;49m\u001b[39m'\u001b[39;49m])\n\u001b[0;32m    <a href='file:///m%3A/BOOTCAMP/Projects/mini-project-I/utility.py?line=154'>155</a>\u001b[0m     _dock_sum \u001b[39m+\u001b[39m\u001b[39m=\u001b[39m \u001b[39mint\u001b[39m(_bike_point[\u001b[39m'\u001b[39m\u001b[39madditionalProperties\u001b[39m\u001b[39m'\u001b[39m][\u001b[39m-\u001b[39m\u001b[39m1\u001b[39m][\u001b[39m'\u001b[39m\u001b[39mvalue\u001b[39m\u001b[39m'\u001b[39m])\n\u001b[0;32m    <a href='file:///m%3A/BOOTCAMP/Projects/mini-project-I/utility.py?line=155'>156</a>\u001b[0m     _bike_sum \u001b[39m+\u001b[39m\u001b[39m=\u001b[39m \u001b[39mint\u001b[39m(_bike_point[\u001b[39m'\u001b[39m\u001b[39madditionalProperties\u001b[39m\u001b[39m'\u001b[39m][\u001b[39m-\u001b[39m\u001b[39m3\u001b[39m][\u001b[39m'\u001b[39m\u001b[39mvalue\u001b[39m\u001b[39m'\u001b[39m])\n",
      "\u001b[1;31mValueError\u001b[0m: invalid literal for int() with base 10: ''"
     ]
    }
   ],
   "source": [
    "task_4()"
   ]
  },
  {
   "cell_type": "markdown",
   "metadata": {},
   "source": [
    "## **Task 5** ✅\n",
    "How many tube and bus lines are in London? Print names of all tube lines."
   ]
  },
  {
   "cell_type": "markdown",
   "metadata": {},
   "source": [
    "### Solution 5:"
   ]
  },
  {
   "cell_type": "markdown",
   "metadata": {},
   "source": [
    "[Line](https://api-portal.tfl.gov.uk/api-details#api=Line&operation=Line_GetByModeByPathModes) API -> GET https://api.tfl.gov.uk/BikePoint/https://api.tfl.gov.uk/Line/Mode/{modes}"
   ]
  },
  {
   "cell_type": "code",
   "execution_count": 6,
   "metadata": {},
   "outputs": [
    {
     "name": "stdout",
     "output_type": "stream",
     "text": [
      "The tube lines of Transport for London are:\n",
      "Bakerloo\n",
      "Central\n",
      "Circle\n",
      "District\n",
      "Hammersmith & City\n",
      "Jubilee\n",
      "Metropolitan\n",
      "Northern\n",
      "Piccadilly\n",
      "Victoria\n",
      "Waterloo & City\n",
      "\n",
      "Bus line total: 677\n",
      "Tube line total: 11\n",
      "Combined total: 688\n"
     ]
    }
   ],
   "source": [
    "task_5()"
   ]
  },
  {
   "cell_type": "markdown",
   "metadata": {},
   "source": [
    "## **Task 6** ✅\n",
    "How many stations does the `victoria` line have?"
   ]
  },
  {
   "cell_type": "markdown",
   "metadata": {},
   "source": [
    "### Solution 6:"
   ]
  },
  {
   "cell_type": "markdown",
   "metadata": {},
   "source": [
    "[Line](https://api-portal.tfl.gov.uk/api-details#api=Line&operation=Line_GetByModeByPathModes) API -> GET https://api.tfl.gov.uk/Line/victoria/StopPoints"
   ]
  },
  {
   "cell_type": "code",
   "execution_count": 7,
   "metadata": {},
   "outputs": [
    {
     "name": "stdout",
     "output_type": "stream",
     "text": [
      "The victoria line has 16 stations along it.\n"
     ]
    }
   ],
   "source": [
    "task_6()"
   ]
  },
  {
   "cell_type": "markdown",
   "metadata": {},
   "source": [
    "## **Task 7** ✅\n",
    "Plan the journey from Heathrow Airport to Tower Bridge using Bus and Tube. Which way is faster? Example output:\n",
    "```\n",
    "Planned duration:\n",
    "Bus: x minutes\n",
    "Tube: y minutes\n",
    "```\n",
    "\n",
    "We need to search the documentation for the necessary requests and parameters."
   ]
  },
  {
   "cell_type": "markdown",
   "metadata": {},
   "source": [
    "### Solution 7:"
   ]
  },
  {
   "cell_type": "markdown",
   "metadata": {},
   "source": [
    "For StopPoints: [StopPoint](https://api-portal.tfl.gov.uk/api-details#api=StopPoint&operation=StopPoint_SearchByQueryQueryQueryModesQueryFaresOnlyQueryMaxResultsQueryLine) -> GET https://api.tfl.gov.uk/StopPoint/Search with {query: common name} as parameter.\n",
    "\n",
    "For the trip: [Journey](https://api-portal.tfl.gov.uk/api-details#api=Journey&operation=Journey_JourneyResultsByPathFromPathToQueryViaQueryNationalSearchQueryDateQu) API -> GET https://api.tfl.gov.uk/Journey/JourneyResults/{from}/to/{to} where {from} and {to} are StopPoints"
   ]
  },
  {
   "cell_type": "code",
   "execution_count": 8,
   "metadata": {},
   "outputs": [
    {
     "name": "stdout",
     "output_type": "stream",
     "text": [
      "A bus trip from Heathrow Airport to Tower Bridge will take 154 minutes.\n",
      "A tube, bus trip from Heathrow Airport to Tower Bridge will take 89 minutes.\n"
     ]
    }
   ],
   "source": [
    "# NOTE Apparently the Tower Bridge coordinates I used don't care much for tube, walking, and cycling ...\n",
    "task_7()"
   ]
  }
 ],
 "metadata": {
  "kernelspec": {
   "display_name": "Python 3",
   "language": "python",
   "name": "python3"
  },
  "language_info": {
   "codemirror_mode": {
    "name": "ipython",
    "version": 3
   },
   "file_extension": ".py",
   "mimetype": "text/x-python",
   "name": "python",
   "nbconvert_exporter": "python",
   "pygments_lexer": "ipython3",
   "version": "3.9.9"
  }
 },
 "nbformat": 4,
 "nbformat_minor": 4
}

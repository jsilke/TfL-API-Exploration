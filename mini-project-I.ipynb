{
 "cells": [
  {
   "cell_type": "markdown",
   "metadata": {},
   "source": [
    "# Mini-Project I\n",
    "During this project, we will practice handling of complex lists and dictionaries in Python. Plus, we will learn how to work with API documentation. Don't be afraid to search for the information in the [**documentation**](https://api.tfl.gov.uk/swagger/ui/index.html?url=/swagger/docs/v1#!/AccidentStats/AccidentStats_Get).\n",
    "\n",
    "Let's go to the tasks, we have some parsing to do :)!!\n",
    "___"
   ]
  },
  {
   "cell_type": "markdown",
   "metadata": {},
   "source": [
    "## **Task 1** ✅\n",
    "Make a request to the Transport for London (TfL) [AirQuality](https://api-portal.tfl.gov.uk/api-details#api=AirQuality&operation=AirQuality_Get) API and store the JSON object as a dictionary."
   ]
  },
  {
   "cell_type": "markdown",
   "metadata": {},
   "source": [
    "### Solution 1:"
   ]
  },
  {
   "cell_type": "code",
   "execution_count": 1,
   "metadata": {},
   "outputs": [],
   "source": [
    "from main import *\n",
    "from constants import VALID_MODES_URL"
   ]
  },
  {
   "cell_type": "code",
   "execution_count": 2,
   "metadata": {},
   "outputs": [],
   "source": [
    "# NOTE get_json() for API query here! This just reads the local file.\n",
    "json_object = get_json()"
   ]
  },
  {
   "cell_type": "markdown",
   "metadata": {},
   "source": [
    "## **Task 2** ✅\n",
    "Parse the dictionary and print the AirQuality predictions for tomorrow"
   ]
  },
  {
   "cell_type": "markdown",
   "metadata": {},
   "source": [
    "### Solution 2:"
   ]
  },
  {
   "cell_type": "code",
   "execution_count": 3,
   "metadata": {},
   "outputs": [
    {
     "name": "stdout",
     "output_type": "stream",
     "text": [
      "Low air pollution forecast valid from Saturday 27 November to end of Saturday 27 November GMT\n",
      "                                   Feeling cold throughout Saturday as air arriving on strong winds from the Arctic Circle affects Greater London. As a result, locally-emitted pollutants will be quickly dispersed.&lt;br/&gt;&lt;br/&gt;Air pollution is expected to remain &#39;Low&#39; throughout the forecast period for the following pollutants:&lt;br/&gt;&lt;br/&gt;Nitrogen Dioxide&lt;br/&gt;Ozone&lt;br/&gt;Sulphur Dioxide &lt;br/&gt;PM10 Particulates&lt;br/&gt;PM2.5 Particulates\n"
     ]
    }
   ],
   "source": [
    "print(tomorrow_forecast(json_object))"
   ]
  },
  {
   "cell_type": "markdown",
   "metadata": {},
   "source": [
    "## **Task 3** ✅\n",
    "What are the different modes of transport which are operated by Transport for London? How many modes do they have?\n",
    "\n",
    "Print the list with different modes of transport, plus their count. Example output:\n",
    "```\n",
    "[bus, cable-car,.....]\n",
    "Number of different modes of transport is: xyz\n",
    "```\n",
    "\n",
    "We need to search the documentation for correct request."
   ]
  },
  {
   "cell_type": "markdown",
   "metadata": {},
   "source": [
    "### Solution 3:"
   ]
  },
  {
   "cell_type": "markdown",
   "metadata": {},
   "source": [
    "[Line](https://api-portal.tfl.gov.uk/api-details#api=Line&operation=Line_MetaModes) API -> GET https://api.tfl.gov.uk/Line/Meta/Modes/"
   ]
  },
  {
   "cell_type": "code",
   "execution_count": 4,
   "metadata": {},
   "outputs": [],
   "source": [
    "json_object = get_json(VALID_MODES_URL) # GET request"
   ]
  },
  {
   "cell_type": "code",
   "execution_count": 5,
   "metadata": {},
   "outputs": [],
   "source": [
    "tfl_modes, tfl_modes_count = valid_tfl_transportation(json_object) # Parse response"
   ]
  },
  {
   "cell_type": "code",
   "execution_count": 6,
   "metadata": {},
   "outputs": [
    {
     "name": "stdout",
     "output_type": "stream",
     "text": [
      "TfL's modes of transportation include:\n",
      "bus\n",
      "- cable-car\n",
      "- cycle-hire\n",
      "- dlr\n",
      "- overground\n",
      "- replacement-bus\n",
      "- river-bus\n",
      "- river-tour\n",
      "- tflrail\n",
      "- tram\n",
      "- tube\n",
      "Thus, TfL offers 11 forms of transportation at present.\n"
     ]
    }
   ],
   "source": [
    "print(f'TfL\\'s modes of transportation include:\\n{tfl_modes}\\nThus, TfL offers {tfl_modes_count} forms of transportation at present.')"
   ]
  },
  {
   "cell_type": "markdown",
   "metadata": {},
   "source": [
    "## **Task 4** ❌\n",
    "How many BikePoints in London are operated by Transport for London? How many docks are in **all** BikePoints? There is information for empty and full docks for each BikePoint."
   ]
  },
  {
   "cell_type": "markdown",
   "metadata": {},
   "source": [
    "### Solution 4:"
   ]
  },
  {
   "cell_type": "markdown",
   "metadata": {},
   "source": [
    "[BikePoint](https://api-portal.tfl.gov.uk/api-details#api=BikePoint&operation=BikePoint_GetAll) API -> GET https://api.tfl.gov.uk/BikePoint/"
   ]
  },
  {
   "cell_type": "markdown",
   "metadata": {},
   "source": [
    "**NOTE:** At the time this was attempted, the API returned an empty list. Skipping for the time being until the JSON structure can be properly analyzed."
   ]
  },
  {
   "cell_type": "code",
   "execution_count": 7,
   "metadata": {},
   "outputs": [],
   "source": [
    "# []"
   ]
  },
  {
   "cell_type": "markdown",
   "metadata": {},
   "source": [
    "## **Task 5** ✅\n",
    "How many tube and bus lines are in London? Print names of all tube lines."
   ]
  },
  {
   "cell_type": "markdown",
   "metadata": {},
   "source": [
    "### Solution 5:"
   ]
  },
  {
   "cell_type": "markdown",
   "metadata": {},
   "source": [
    "[Line](https://api-portal.tfl.gov.uk/api-details#api=Line&operation=Line_GetByModeByPathModes) API -> GET https://api.tfl.gov.uk/BikePoint/https://api.tfl.gov.uk/Line/Mode/{modes}"
   ]
  },
  {
   "cell_type": "code",
   "execution_count": 8,
   "metadata": {},
   "outputs": [],
   "source": [
    "json_object = get_valid_lines() # Query response parsed to json."
   ]
  },
  {
   "cell_type": "code",
   "execution_count": 9,
   "metadata": {},
   "outputs": [
    {
     "name": "stdout",
     "output_type": "stream",
     "text": [
      "The tube lines of Transport for London are:\n",
      "Bakerloo\n",
      "Central\n",
      "Circle\n",
      "District\n",
      "Hammersmith & City\n",
      "Jubilee\n",
      "Metropolitan\n",
      "Northern\n",
      "Piccadilly\n",
      "Victoria\n",
      "Waterloo & City\n",
      "\n",
      "Bus line total: 677\n",
      "Tube line total: 11\n",
      "Combined total: 688\n"
     ]
    }
   ],
   "source": [
    "# Solution output.\n",
    "b, t, total = bus_tube_lines(json_object)\n",
    "print(f\"\\nBus line total: {b}\\nTube line total: {t}\\nCombined total: {total}\")"
   ]
  },
  {
   "cell_type": "markdown",
   "metadata": {},
   "source": [
    "## **Task 6** ✅\n",
    "How many stations does the `victoria` line have?"
   ]
  },
  {
   "cell_type": "markdown",
   "metadata": {},
   "source": [
    "### Solution 6:"
   ]
  },
  {
   "cell_type": "markdown",
   "metadata": {},
   "source": [
    "[Line](https://api-portal.tfl.gov.uk/api-details#api=Line&operation=Line_GetByModeByPathModes) API -> https://api.tfl.gov.uk/Line/victoria/StopPoints"
   ]
  },
  {
   "cell_type": "code",
   "execution_count": 10,
   "metadata": {},
   "outputs": [
    {
     "data": {
      "text/plain": [
       "16"
      ]
     },
     "execution_count": 10,
     "metadata": {},
     "output_type": "execute_result"
    }
   ],
   "source": [
    "# Assuming ALL stations on the Victoria line:\n",
    "json_object = get_line_stations()\n",
    "count_line_stations(json_object)"
   ]
  },
  {
   "cell_type": "code",
   "execution_count": 11,
   "metadata": {},
   "outputs": [
    {
     "data": {
      "text/plain": [
       "0"
      ]
     },
     "execution_count": 11,
     "metadata": {},
     "output_type": "execute_result"
    }
   ],
   "source": [
    "# Assuming only TfL stations on the Victoria line:\n",
    "json_object = get_line_stations(tfl_only=True)\n",
    "count_line_stations(json_object)"
   ]
  },
  {
   "cell_type": "markdown",
   "metadata": {},
   "source": [
    "## **Task 7**\n",
    "Plan the journey from Heathrow Airport to Tower Bridge using Bus and Tube. Which way is faster? Example output:\n",
    "```\n",
    "Planned duration:\n",
    "Bus: x minutes\n",
    "Tube: y minutes\n",
    "```\n",
    "\n",
    "We need to search the documentation for the necessary requests and parameters."
   ]
  },
  {
   "cell_type": "markdown",
   "metadata": {},
   "source": [
    "### Solution 7:"
   ]
  },
  {
   "cell_type": "code",
   "execution_count": null,
   "metadata": {},
   "outputs": [],
   "source": []
  }
 ],
 "metadata": {
  "kernelspec": {
   "display_name": "Python 3",
   "language": "python",
   "name": "python3"
  },
  "language_info": {
   "codemirror_mode": {
    "name": "ipython",
    "version": 3
   },
   "file_extension": ".py",
   "mimetype": "text/x-python",
   "name": "python",
   "nbconvert_exporter": "python",
   "pygments_lexer": "ipython3",
   "version": "3.9.7"
  }
 },
 "nbformat": 4,
 "nbformat_minor": 4
}
